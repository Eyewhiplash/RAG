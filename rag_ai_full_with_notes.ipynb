{
 "cells": [
  {
   "cell_type": "markdown",
   "id": "383940a7",
   "metadata": {},
   "source": [
    "# RAG with Visualization: AI/ML Study Notes"
   ]
  },
  {
   "cell_type": "code",
   "execution_count": 1,
   "id": "23384feb",
   "metadata": {},
   "outputs": [],
   "source": [
    "import os\n",
    "import faiss\n",
    "import openai\n",
    "import pandas as pd\n",
    "import numpy as np\n",
    "import matplotlib.pyplot as plt\n",
    "import seaborn as sns\n",
    "import umap\n",
    "from sentence_transformers import SentenceTransformer\n",
    "from sklearn.preprocessing import normalize\n",
    "from dotenv import load_dotenv"
   ]
  },
  {
   "cell_type": "code",
   "execution_count": null,
   "id": "d824a09c",
   "metadata": {},
   "outputs": [],
   "source": [
    "study_notes = [\n",
    "    \"A Convolutional Neural Network (CNN) is a type of deep neural network designed to process data with grid-like topology such as images. It uses convolutional layers to extract spatial features.\",\n",
    "    \"ResNet, or Residual Network, introduces skip connections to allow gradients to flow through deep networks more easily, making it possible to train models with over 100 layers.\",\n",
    "    \"AlexNet was one of the first deep CNNs that showed the power of GPUs in training deep learning models. It uses ReLU activation and dropout.\",\n",
    "    \"Transfer learning allows reusing a model trained on one dataset for a different but related task. Commonly used with large models like ResNet or BERT.\",\n",
    "    \"Backpropagation computes gradients of the loss function with respect to network weights using the chain rule. It enables optimization via gradient descent.\",\n",
    "    \"L1 regularization penalizes the absolute value of weights, encouraging sparsity. L2 regularization penalizes the squared magnitude of weights, promoting smaller weights.\",\n",
    "    \"Overfitting occurs when a model performs well on training data but poorly on unseen data. Techniques like dropout, regularization, and early stopping can help prevent it.\",\n",
    "    \"Dropout randomly disables neurons during training, reducing co-dependency between neurons and helping generalization.\",\n",
    "    \"Early stopping halts training when validation loss stops improving, preventing overfitting.\",\n",
    "    \"PyTorch is an open-source deep learning framework with dynamic computation graphs, widely used for research and production.\",\n",
    "    \"An epoch is a full pass through the training data. A batch is a subset used to compute one update. Iterations = dataset size / batch size.\",\n",
    "    \"Learning rate determines how big a step gradient descent takes. A high learning rate can overshoot minima, while a low one slows down learning.\",\n",
    "    \"Cross-entropy loss is used for classification, measuring the difference between predicted probabilities and actual labels.\",\n",
    "    \"Mean squared error (MSE) is used for regression, minimizing the square of the difference between predicted and actual values.\",\n",
    "    \"ReLU outputs zero for negative inputs and the input itself for positives. It’s simple and effective, avoiding vanishing gradients.\",\n",
    "    \"Batch normalization standardizes the inputs to each layer, stabilizing training and allowing higher learning rates.\",\n",
    "    \"A confusion matrix shows TP, FP, TN, FN — it's used to understand classification errors.\",\n",
    "    \"Precision = TP / (TP + FP), recall = TP / (TP + FN), F1-score = harmonic mean of precision and recall.\",\n",
    "    \"Adam optimizer combines momentum and RMSProp. It’s adaptive and widely used.\",\n",
    "    \"RMSProp adapts learning rate per parameter by maintaining a moving average of squared gradients.\",\n",
    "    \"Learning rate schedulers reduce the LR over time or when a metric plateaus. Types include step, cosine, exponential.\",\n",
    "    \"Fine-tuning involves training a pre-trained model further on new data. Often, lower layers are frozen and only top layers are trained.\",\n",
    "    \"Data augmentation creates artificial training examples by altering original data — e.g., flipping, cropping, or color shifting images.\",\n",
    "    \"Autoencoders compress data into a lower dimension (encoding) and try to reconstruct it. They're used for unsupervised learning and denoising.\",\n",
    "    \"GANs (Generative Adversarial Networks) consist of a generator and discriminator competing, producing realistic synthetic data.\",\n",
    "    \"Supervised learning involves labeled data. Unsupervised learning deals with patterns in unlabeled data. Semi-supervised uses both.\",\n",
    "    \"K-means clustering groups data by minimizing distance to cluster centroids. It’s unsupervised and assumes spherical clusters.\",\n",
    "    \"Principal Component Analysis (PCA) reduces dimensionality by projecting data to directions of maximum variance.\",\n",
    "    \"A transformer uses self-attention to weigh input tokens differently based on context, enabling better sequence understanding.\",\n",
    "    \"The attention mechanism computes scores between tokens to find which ones to focus on. Scaled dot-product attention is common.\",\n",
    "    \"Positional encoding injects order into transformer inputs, since attention alone is permutation-invariant.\",\n",
    "    \"BERT (Bidirectional Encoder Representations from Transformers) is trained using masked language modeling and next sentence prediction.\",\n",
    "    \"GPT is a unidirectional transformer-based model trained for next-token prediction. It powers many generative NLP systems.\",\n",
    "    \"Tokenization splits text into tokens — often words or subwords — to prepare inputs for NLP models.\",\n",
    "    \"Word2Vec and GloVe are pre-transformer word embeddings capturing semantic similarity. Now mostly replaced by contextual embeddings.\",\n",
    "    \"MLflow is a tool for experiment tracking, model versioning, and deployment in machine learning workflows.\",\n",
    "    \"Docker is often used in ML pipelines to containerize code and ensure reproducibility across environments.\",\n",
    "    \"A deployment pipeline for ML includes preprocessing, inference, logging, and monitoring. Tools like FastAPI and Flask are common.\",\n",
    "    \"Evaluation metrics depend on task: accuracy for classification, MAE/MSE for regression, BLEU/ROUGE for NLP, IoU for object detection.\",\n",
    "    \"Hyperparameter tuning uses tools like Optuna or Grid Search to find the best combinations of model settings.\",\n",
    "    \"Overparameterization means the model has more parameters than needed. Surprisingly, this often improves performance when combined with good regularization.\"\n",
    "]\n"
   ]
  },
  {
   "cell_type": "code",
   "execution_count": null,
   "id": "2fb6f15a",
   "metadata": {},
   "outputs": [],
   "source": [
    "load_dotenv()\n",
    "openai.api_key = os.getenv(\"OPENAI_API_KEY\")"
   ]
  },
  {
   "cell_type": "code",
   "execution_count": null,
   "id": "99e3b32f",
   "metadata": {},
   "outputs": [],
   "source": [
    "model = SentenceTransformer(\"all-MiniLM-L6-v2\")\n",
    "embeddings = model.encode(study_notes, convert_to_numpy=True)\n",
    "embeddings = normalize(embeddings, axis=1)\n",
    "dimension = embeddings.shape[1]\n",
    "index = faiss.IndexFlatIP(dimension)\n",
    "index.add(embeddings)"
   ]
  },
  {
   "cell_type": "code",
   "execution_count": null,
   "id": "da263cd7",
   "metadata": {},
   "outputs": [],
   "source": [
    "def retrieve(query, top_k=5):\n",
    "    query_vec = model.encode([query], convert_to_numpy=True)\n",
    "    query_vec = normalize(query_vec, axis=1)\n",
    "    scores, indices = index.search(query_vec, top_k)\n",
    "    return scores[0], indices[0], query_vec"
   ]
  },
  {
   "cell_type": "code",
   "execution_count": null,
   "id": "609f995a",
   "metadata": {},
   "outputs": [],
   "source": [
    "def show_results(scores, indices):\n",
    "    results = pd.DataFrame({\n",
    "        \"Chunk\": [study_notes[i][:80] + \"...\" for i in indices],\n",
    "        \"Similarity Score\": scores\n",
    "    })\n",
    "    display(results)\n",
    "    plt.figure(figsize=(10, 5))\n",
    "    sns.barplot(x=list(range(len(scores))), y=scores)\n",
    "    plt.xticks(ticks=list(range(len(scores))), labels=[f\"#{i}\" for i in indices])\n",
    "    plt.ylabel(\"Cosine Similarity\")\n",
    "    plt.title(\"Top-K Retrieved Chunks\")\n",
    "    plt.show()"
   ]
  },
  {
   "cell_type": "code",
   "execution_count": null,
   "id": "ca6f0e94",
   "metadata": {},
   "outputs": [],
   "source": [
    "def plot_umap(all_embeddings, query_vec, indices):\n",
    "    reducer = umap.UMAP(random_state=42)\n",
    "    reduced = reducer.fit_transform(np.vstack([query_vec, all_embeddings]))\n",
    "    plt.figure(figsize=(10, 6))\n",
    "    plt.scatter(reduced[1:, 0], reduced[1:, 1], c=\"gray\", label=\"Notes\")\n",
    "    plt.scatter(reduced[1+indices, 0], reduced[1+indices, 1], c=\"blue\", label=\"Top-k\")\n",
    "    plt.scatter(reduced[0, 0], reduced[0, 1], c=\"red\", label=\"Query\", marker=\"X\", s=100)\n",
    "    plt.legend()\n",
    "    plt.title(\"UMAP Projection of Notes + Query\")\n",
    "    plt.show()"
   ]
  },
  {
   "cell_type": "code",
   "execution_count": null,
   "id": "af37d3f5",
   "metadata": {},
   "outputs": [],
   "source": [
    "def generate_answer(question, context):\n",
    "    joined_context = \"\\n\".join(context)\n",
    "    prompt = f\"\"\"\n",
    "You are a helpful AI tutor. Based only on the provided context, answer the question.\n",
    "\n",
    "Context:\n",
    "{joined_context}\n",
    "\n",
    "Question: {question}\n",
    "Answer:\n",
    "\"\"\"\n",
    "    try:\n",
    "        response = openai.ChatCompletion.create(\n",
    "            model=\"gpt-3.5-turbo\",\n",
    "            messages=[{\"role\": \"user\", \"content\": prompt}],\n",
    "            temperature=0.3,\n",
    "            max_tokens=300\n",
    "        )\n",
    "        return response['choices'][0]['message']['content'].strip()\n",
    "    except openai.error.OpenAIError as e:\n",
    "        print(\"\\n[OpenAI ERROR]\", str(e))\n",
    "        return \"⚠️ Sorry, something went wrong while generating the answer.\" "
   ]
  },
  {
   "cell_type": "code",
   "execution_count": null,
   "id": "550d889a",
   "metadata": {},
   "outputs": [],
   "source": [
    "query = \"What is the purpose of this RAG system?\"\n",
    "scores, indices, query_vec = retrieve(query)\n",
    "show_results(scores, indices)\n",
    "plot_umap(embeddings, query_vec, indices)\n",
    "context = [study_notes[i] for i in indices]\n",
    "answer = generate_answer(query, context)\n",
    "print(\"\\n--- Final Answer ---\\n\", answer)"
   ]
  }
 ],
 "metadata": {
  "kernelspec": {
   "display_name": "Python 3",
   "language": "python",
   "name": "python3"
  },
  "language_info": {
   "codemirror_mode": {
    "name": "ipython",
    "version": 3
   },
   "file_extension": ".py",
   "mimetype": "text/x-python",
   "name": "python",
   "nbconvert_exporter": "python",
   "pygments_lexer": "ipython3",
   "version": "3.13.2"
  }
 },
 "nbformat": 4,
 "nbformat_minor": 5
}
